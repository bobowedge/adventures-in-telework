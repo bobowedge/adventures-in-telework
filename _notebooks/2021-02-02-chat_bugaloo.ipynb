{
 "cells": [
  {
   "cell_type": "markdown",
   "metadata": {},
   "source": [
    "# \"Chat Generation 2: Electric Bugaloo\"\n",
    "> Revisiting chat generation after the fastai NLP lesson\n",
    "\n",
    "- toc: true\n",
    "- badges: true\n",
    "- comments: true\n",
    "- author: Matt Bowen\n",
    "- categories: [jupyter]\n",
    "- comments: true"
   ]
  },
  {
   "cell_type": "markdown",
   "metadata": {},
   "source": [
    "## Introduction\n",
    "\n",
    "In my [first real post](https://bobowedge.github.io/adventures-in-telework/pytorch/jupyter/2020/11/12/chat_generation.html), I tried my hand at generating fake chat logs using PyTorch. The corpus I used was a private Google Hangouts chatroom that I'm in and my idea was ostensibly to generate something that resembled the message in that room. I adapted one of the PyTorch examples to attempt to do so. I was able to generate a model, but, as you can see from the results at the bottom of the post, the result wasn't all that great.\n",
    "\n",
    "Today, I'm going to try again, now armed with the last lesson in the [fastai course](https://course.fast.ai/), which covers natural language processing (NLP). "
   ]
  },
  {
   "cell_type": "code",
   "execution_count": 64,
   "metadata": {},
   "outputs": [],
   "source": [
    "#collapse\n",
    "from fastai.text.all import *"
   ]
  },
  {
   "cell_type": "markdown",
   "metadata": {},
   "source": [
    "## Data Prep\n",
    "\n",
    "> Warning: Some of the chat content may contain profanity or stupidity."
   ]
  },
  {
   "cell_type": "markdown",
   "metadata": {},
   "source": [
    "The previous post on chat generation did most of the leg work in terms of prepping the data to interact nicely with the `fastai` interface, but I did a couple of more things to make training and generation easier.\n",
    "\n",
    "First, I added in a couple of special marker words to indicate the speaker (`xxsender`) and the start (`xxsom`) and the end (`xxeom`) of messages. Then, I combined them into a single string for each message:"
   ]
  },
  {
   "cell_type": "code",
   "execution_count": 48,
   "metadata": {},
   "outputs": [
    {
     "data": {
      "text/html": [
       "<div>\n",
       "<style scoped>\n",
       "    .dataframe tbody tr th:only-of-type {\n",
       "        vertical-align: middle;\n",
       "    }\n",
       "\n",
       "    .dataframe tbody tr th {\n",
       "        vertical-align: top;\n",
       "    }\n",
       "\n",
       "    .dataframe thead th {\n",
       "        text-align: right;\n",
       "    }\n",
       "</style>\n",
       "<table border=\"1\" class=\"dataframe\">\n",
       "  <thead>\n",
       "    <tr style=\"text-align: right;\">\n",
       "      <th></th>\n",
       "      <th>Sender</th>\n",
       "      <th>Message</th>\n",
       "      <th>Text</th>\n",
       "    </tr>\n",
       "  </thead>\n",
       "  <tbody>\n",
       "    <tr>\n",
       "      <th>0</th>\n",
       "      <td>Kappa</td>\n",
       "      <td>Rsvp allo</td>\n",
       "      <td>xxsender Kappa xxsom Rsvp allo xxeom</td>\n",
       "    </tr>\n",
       "    <tr>\n",
       "      <th>1</th>\n",
       "      <td>Omega</td>\n",
       "      <td>Is it dead, did you get my last AliExpress find?</td>\n",
       "      <td>xxsender Omega xxsom Is it dead, did you get my last AliExpress find? xxeom</td>\n",
       "    </tr>\n",
       "    <tr>\n",
       "      <th>2</th>\n",
       "      <td>Kappa</td>\n",
       "      <td>I didn't see it and it wouldn't let me send anything</td>\n",
       "      <td>xxsender Kappa xxsom I didn't see it and it wouldn't let me send anything xxeom</td>\n",
       "    </tr>\n",
       "    <tr>\n",
       "      <th>3</th>\n",
       "      <td>Omega</td>\n",
       "      <td>&lt;MEME&gt;</td>\n",
       "      <td>xxsender Omega xxsom &lt;MEME&gt; xxeom</td>\n",
       "    </tr>\n",
       "    <tr>\n",
       "      <th>4</th>\n",
       "      <td>Kappa</td>\n",
       "      <td>I need this</td>\n",
       "      <td>xxsender Kappa xxsom I need this xxeom</td>\n",
       "    </tr>\n",
       "  </tbody>\n",
       "</table>\n",
       "</div>"
      ],
      "text/plain": [
       "  Sender                                               Message  \\\n",
       "0  Kappa                                             Rsvp allo   \n",
       "1  Omega      Is it dead, did you get my last AliExpress find?   \n",
       "2  Kappa  I didn't see it and it wouldn't let me send anything   \n",
       "3  Omega                                                <MEME>   \n",
       "4  Kappa                                           I need this   \n",
       "\n",
       "                                                                              Text  \n",
       "0                                             xxsender Kappa xxsom Rsvp allo xxeom  \n",
       "1      xxsender Omega xxsom Is it dead, did you get my last AliExpress find? xxeom  \n",
       "2  xxsender Kappa xxsom I didn't see it and it wouldn't let me send anything xxeom  \n",
       "3                                                xxsender Omega xxsom <MEME> xxeom  \n",
       "4                                           xxsender Kappa xxsom I need this xxeom  "
      ]
     },
     "execution_count": 48,
     "metadata": {},
     "output_type": "execute_result"
    }
   ],
   "source": [
    "##\n",
    "# Special marker words\n",
    "mark1 = \"xxsender\"\n",
    "mark2 = \"xxsom\"\n",
    "mark3 = \"xxeom\"\n",
    "\n",
    "# Read in the data and create\n",
    "chat_df = pd.read_csv(\"chat_file.csv\")\n",
    "chat_df['Text'] = f\"{dlm1} \" + chat_df['Sender'] + f\" {dlm2} \" + chat_df[\"Message\"] + f\" {dlm3}\"\n",
    "chat_df.head()"
   ]
  },
  {
   "cell_type": "markdown",
   "metadata": {},
   "source": [
    "From there, I needed to break up the corpus into training and validation sets. I made each training and validation file to be a chunk of 100 consecutive messages concatenated together. Hopefully, this will preserve some of the inter-message dynamics, but keep each file reasonably sized. (The number 100 is quite arbitrary.)"
   ]
  },
  {
   "cell_type": "code",
   "execution_count": 57,
   "metadata": {},
   "outputs": [
    {
     "name": "stdout",
     "output_type": "stream",
     "text": [
      "29000 23200 5800\n"
     ]
    }
   ],
   "source": [
    "##\n",
    "# Somewhat arbitrary parameters\n",
    "msgs_per_chunk = 100\n",
    "train_percent = 0.8\n",
    "valid_percent = 1.0 - train_percent\n",
    "\n",
    "total_msgs = len(chat_df)\n",
    "train_msgs = int(total_msgs * train_percent)\n",
    "valid_msgs = total - train_msgs\n",
    "print(total_msgs, train_msgs, valid_msgs)\n",
    "\n",
    "# Chunk messages into separate files\n",
    "for i in range(0, total_msgs, msgs_per_chunk):\n",
    "    subset = \" \".join(chat_df['Text'][i:i+msgs_per_chunk])\n",
    "    if i < train_msgs:\n",
    "        txt_file = f\"data/train/{i}.txt\"\n",
    "    else:\n",
    "        txt_file = f\"data/valid/{i}.txt\"\n",
    "    with open(txt_file, mode='w') as f:\n",
    "        f.write(subset)"
   ]
  },
  {
   "cell_type": "markdown",
   "metadata": {},
   "source": [
    "## Training a model\n",
    "\n",
    "With the data prep done, the next step is to train a language model. First, I created a `DataLoaders` object based on the training and validation sets to batch to give it to the language model learner"
   ]
  },
  {
   "cell_type": "code",
   "execution_count": 59,
   "metadata": {},
   "outputs": [],
   "source": [
    "path = \"data\"\n",
    "get_data = partial(get_text_files, folders=['train', 'valid'])\n",
    "dls_lm = DataBlock(\n",
    "    blocks = TextBlock.from_df(path, is_lm=True),\n",
    "    get_items=get_data, splitter=RandomSplitter(0.1)).dataloaders(path, path=path, bs=64, seq_len=80)"
   ]
  },
  {
   "cell_type": "code",
   "execution_count": 60,
   "metadata": {},
   "outputs": [
    {
     "data": {
      "text/html": [
       "<table border=\"1\" class=\"dataframe\">\n",
       "  <thead>\n",
       "    <tr style=\"text-align: right;\">\n",
       "      <th></th>\n",
       "      <th>text</th>\n",
       "      <th>text_</th>\n",
       "    </tr>\n",
       "  </thead>\n",
       "  <tbody>\n",
       "    <tr>\n",
       "      <th>0</th>\n",
       "      <td>xxbos xxsender xxmaj gamma xxsom no one is in chat today and it 's terrible xxeom xxsender xxmaj kappa xxsom xxup sad xxeom xxsender xxmaj gamma xxsom so xxeom xxsender xxmaj kappa xxsom xxmaj why even have rules of we do nt follow them xxeom xxsender xxmaj gamma xxsom better idea for the end of last night 's episode xxeom xxsender xxmaj kappa xxsom xxmaj this country is a dump xxeom xxsender xxmaj gamma xxsom jon tells dany who he</td>\n",
       "      <td>xxsender xxmaj gamma xxsom no one is in chat today and it 's terrible xxeom xxsender xxmaj kappa xxsom xxup sad xxeom xxsender xxmaj gamma xxsom so xxeom xxsender xxmaj kappa xxsom xxmaj why even have rules of we do nt follow them xxeom xxsender xxmaj gamma xxsom better idea for the end of last night 's episode xxeom xxsender xxmaj kappa xxsom xxmaj this country is a dump xxeom xxsender xxmaj gamma xxsom jon tells dany who he really</td>\n",
       "    </tr>\n",
       "    <tr>\n",
       "      <th>1</th>\n",
       "      <td>time until the election voting against their other xxunk until they get to him xxeom xxsender xxmaj beta xxsom xxmaj it seems that it 's convention for xxmaj senators to xxunk from voting in conflict of interest cases , not law or even xxmaj senate rules . xxmaj so , xxmaj cruz could vote for himself . xxmaj he does n't have to resign as senator until he 's actually xxunk xxeom xxsender xxmaj kappa xxsom &lt; meme &gt; xxeom</td>\n",
       "      <td>until the election voting against their other xxunk until they get to him xxeom xxsender xxmaj beta xxsom xxmaj it seems that it 's convention for xxmaj senators to xxunk from voting in conflict of interest cases , not law or even xxmaj senate rules . xxmaj so , xxmaj cruz could vote for himself . xxmaj he does n't have to resign as senator until he 's actually xxunk xxeom xxsender xxmaj kappa xxsom &lt; meme &gt; xxeom xxsender</td>\n",
       "    </tr>\n",
       "  </tbody>\n",
       "</table>"
      ],
      "text/plain": [
       "<IPython.core.display.HTML object>"
      ]
     },
     "metadata": {},
     "output_type": "display_data"
    }
   ],
   "source": [
    "dls_lm.show_batch(max_n=2)"
   ]
  },
  {
   "cell_type": "markdown",
   "metadata": {},
   "source": [
    "Then, I fed that object into the language model learner to create a language model to train. As with other `fastai` models, this sets up a pretrained model that can be fine tuned to based on the particular context."
   ]
  },
  {
   "cell_type": "code",
   "execution_count": 61,
   "metadata": {},
   "outputs": [],
   "source": [
    "learn = language_model_learner(dls_lm, AWD_LSTM, drop_mult=0.3, metrics=[accuracy, Perplexity()]).to_fp16()"
   ]
  },
  {
   "cell_type": "markdown",
   "metadata": {},
   "source": [
    "I used the learning rate finder to pick an apporpriate learning rate:"
   ]
  },
  {
   "cell_type": "code",
   "execution_count": 62,
   "metadata": {},
   "outputs": [
    {
     "data": {
      "text/html": [],
      "text/plain": [
       "<IPython.core.display.HTML object>"
      ]
     },
     "metadata": {},
     "output_type": "display_data"
    },
    {
     "data": {
      "text/plain": [
       "SuggestedLRs(lr_min=0.13182567358016967, lr_steep=0.0831763744354248)"
      ]
     },
     "execution_count": 62,
     "metadata": {},
     "output_type": "execute_result"
    },
    {
     "data": {
      "image/png": "[encoded data removed]",
      "text/plain": [
       "<Figure size 432x288 with 1 Axes>"
      ]
     },
     "metadata": {
      "needs_background": "light"
     },
     "output_type": "display_data"
    }
   ],
   "source": [
    "learn.lr_find()"
   ]
  },
  {
   "cell_type": "markdown",
   "metadata": {},
   "source": [
    "Now, I fit the model, using that learning rate and 10 epochs:"
   ]
  },
  {
   "cell_type": "code",
   "execution_count": 74,
   "metadata": {
    "scrolled": true
   },
   "outputs": [
    {
     "data": {
      "text/html": [
       "<table border=\"1\" class=\"dataframe\">\n",
       "  <thead>\n",
       "    <tr style=\"text-align: left;\">\n",
       "      <th>epoch</th>\n",
       "      <th>train_loss</th>\n",
       "      <th>valid_loss</th>\n",
       "      <th>accuracy</th>\n",
       "      <th>perplexity</th>\n",
       "      <th>time</th>\n",
       "    </tr>\n",
       "  </thead>\n",
       "  <tbody>\n",
       "    <tr>\n",
       "      <td>0</td>\n",
       "      <td>4.602012</td>\n",
       "      <td>3.350408</td>\n",
       "      <td>0.388268</td>\n",
       "      <td>28.514360</td>\n",
       "      <td>00:58</td>\n",
       "    </tr>\n",
       "    <tr>\n",
       "      <td>1</td>\n",
       "      <td>3.726574</td>\n",
       "      <td>3.723708</td>\n",
       "      <td>0.366895</td>\n",
       "      <td>41.417671</td>\n",
       "      <td>00:58</td>\n",
       "    </tr>\n",
       "    <tr>\n",
       "      <td>2</td>\n",
       "      <td>3.399452</td>\n",
       "      <td>3.705886</td>\n",
       "      <td>0.370592</td>\n",
       "      <td>40.686092</td>\n",
       "      <td>00:57</td>\n",
       "    </tr>\n",
       "    <tr>\n",
       "      <td>3</td>\n",
       "      <td>3.176552</td>\n",
       "      <td>3.566556</td>\n",
       "      <td>0.382298</td>\n",
       "      <td>35.394474</td>\n",
       "      <td>00:57</td>\n",
       "    </tr>\n",
       "    <tr>\n",
       "      <td>4</td>\n",
       "      <td>2.986681</td>\n",
       "      <td>3.432734</td>\n",
       "      <td>0.391250</td>\n",
       "      <td>30.961184</td>\n",
       "      <td>00:58</td>\n",
       "    </tr>\n",
       "    <tr>\n",
       "      <td>5</td>\n",
       "      <td>2.807675</td>\n",
       "      <td>3.359524</td>\n",
       "      <td>0.406797</td>\n",
       "      <td>28.775505</td>\n",
       "      <td>00:57</td>\n",
       "    </tr>\n",
       "    <tr>\n",
       "      <td>6</td>\n",
       "      <td>2.646611</td>\n",
       "      <td>3.322854</td>\n",
       "      <td>0.415332</td>\n",
       "      <td>27.739414</td>\n",
       "      <td>00:59</td>\n",
       "    </tr>\n",
       "    <tr>\n",
       "      <td>7</td>\n",
       "      <td>2.482075</td>\n",
       "      <td>3.298300</td>\n",
       "      <td>0.421074</td>\n",
       "      <td>27.066593</td>\n",
       "      <td>00:57</td>\n",
       "    </tr>\n",
       "    <tr>\n",
       "      <td>8</td>\n",
       "      <td>2.355381</td>\n",
       "      <td>3.294302</td>\n",
       "      <td>0.422982</td>\n",
       "      <td>26.958590</td>\n",
       "      <td>00:58</td>\n",
       "    </tr>\n",
       "    <tr>\n",
       "      <td>9</td>\n",
       "      <td>2.265341</td>\n",
       "      <td>3.295616</td>\n",
       "      <td>0.423320</td>\n",
       "      <td>26.994041</td>\n",
       "      <td>00:58</td>\n",
       "    </tr>\n",
       "  </tbody>\n",
       "</table>"
      ],
      "text/plain": [
       "<IPython.core.display.HTML object>"
      ]
     },
     "metadata": {},
     "output_type": "display_data"
    }
   ],
   "source": [
    "epochs = 10\n",
    "lr = 1e-1\n",
    "learn.fit_one_cycle(epochs, lr)"
   ]
  },
  {
   "cell_type": "markdown",
   "metadata": {},
   "source": [
    "Again, 10 epochs is arbitrary, merely based on the fact that epoch took about a minute and 10 minutes isn't an eternity to wait.\n",
    "\n",
    "## Output Cleanup\n",
    "\n",
    "Before I generated text, I need a routine to clean the output to make it look reasonable. In particular, I had added those extra `xx` markers that needed to be removed. Additionally, there were some modifications that the default tokenizer for `fastai` uses (e.g. `It's` to `It 's`) that needed to be undone. One thing I couldn't find in the `fastai` library was something to completely undo that tokenization. \n",
    "\n",
    "For those reasons, the collapse below has the `output_cleanup` function that I wrote to make the generated text prettier. It's not very interesting, but I included it for completeness"
   ]
  },
  {
   "cell_type": "markdown",
   "metadata": {},
   "source": [
    "## Chat Generation\n",
    "\n",
    "With the model tuned, I have everything I need to generate some chat. The main function for doing so is `learn.predict`, which generates some words based on some seed text. Here's the generation function that I came up with:"
   ]
  },
  {
   "cell_type": "code",
   "execution_count": 76,
   "metadata": {},
   "outputs": [],
   "source": [
    "##\n",
    "# Generate some chat\n",
    "def generate(seed, num_words):\n",
    "    # If seed is just a sender, add the sender marker\n",
    "    if seed in [\"Kappa\", \"Gamma\", \"Psi\", \"Omega\", \"Beta\", \"Sigma\"]:\n",
    "        seed = \"xxsender \" + seed\n",
    "    # Predict slightly past the number of requested words\n",
    "    x = learn.predict(seed, num_words + 20, temperature=0.75)\n",
    "    # Clean the output\n",
    "    x = output_cleanup(x)\n",
    "    # Trim back to the last complete message\n",
    "    x = x.splitlines()\n",
    "    x = \"\\n\".join(x[:-1])\n",
    "    return x "
   ]
  },
  {
   "cell_type": "code",
   "execution_count": 78,
   "metadata": {},
   "outputs": [
    {
     "data": {
      "text/html": [],
      "text/plain": [
       "<IPython.core.display.HTML object>"
      ]
     },
     "metadata": {},
     "output_type": "display_data"
    },
    {
     "name": "stdout",
     "output_type": "stream",
     "text": [
      " Gamma :: it iirc made MIL as ron burgundy\n",
      " Gamma :: well, they all don't have their own non white children\n",
      " Omega :: They've been there since last year\n",
      " Beta :: If they do nt have a non - emergency situation, that's gold\n",
      " Kappa :: It's a silent auction\n",
      " Kappa :: It's a shame that that's not the origin for this\n",
      " Kappa :: Does that matter?\n",
      " Kappa :: is this it?\n",
      " Kappa :: I'm beginning to doubt her dad as a conservative but that doesn't mean it is a good one\n",
      " Gamma :: i think it's not a nut roll\n",
      " Omega :: i mean the maybe i assume that's the third time i was being a retard\n",
      " Kappa :: it's like a fighting chance to remember it\n",
      " Gamma :: It's really good\n",
      " Kappa :: I'm out of my house\n"
     ]
    }
   ],
   "source": [
    "print(generate(\"\", 200))"
   ]
  },
  {
   "cell_type": "markdown",
   "metadata": {},
   "source": [
    "It's pretty easy to see that this generated chat is better than the previous text generation that I did. At a minimum, each message is much more likely to be coherent as English. There is also some continuity between messages, where there was none before.\n",
    "\n",
    "For fun, I also generated some text seeded based on who the first sender was"
   ]
  },
  {
   "cell_type": "code",
   "execution_count": 47,
   "metadata": {},
   "outputs": [
    {
     "data": {
      "text/html": [],
      "text/plain": [
       "<IPython.core.display.HTML object>"
      ]
     },
     "metadata": {},
     "output_type": "display_data"
    },
    {
     "name": "stdout",
     "output_type": "stream",
     "text": [
      " Kappa :: But i can not keep forgetting \n",
      " Gamma :: i guess it's not illegal if you don't think we're gonna go to the gov't \n",
      " Kappa :: The pediatrician said it was never before \n",
      " Kappa :: There's a spider in the CO \n",
      " Kappa :: just the fuck \n",
      " Kappa :: Fucking retarded \n",
      " Kappa :: Maybe i'm also retarded \n",
      " Gamma :: It's a retarded demon \n",
      " Kappa :: i was retarded \n",
      " Kappa :: That s a good word \n",
      "--------------------------------\n"
     ]
    },
    {
     "data": {
      "text/html": [],
      "text/plain": [
       "<IPython.core.display.HTML object>"
      ]
     },
     "metadata": {},
     "output_type": "display_data"
    },
    {
     "name": "stdout",
     "output_type": "stream",
     "text": [
      " Gamma :: Too accurate \n",
      " Kappa :: This is one of the most advanced things i've ever seen \n",
      " Kappa :: how are you going to take the call? \n",
      " Gamma :: Fuck this country \n",
      " Kappa :: Fuck this country \n",
      " Kappa :: My question is how to get on \n",
      " Kappa :: The question from the south is why someone said there's a higher school \n",
      " Kappa :: Oh and i mean, people in the south are going to wait for the Canadian man who lives there \n",
      "--------------------------------\n"
     ]
    },
    {
     "data": {
      "text/html": [],
      "text/plain": [
       "<IPython.core.display.HTML object>"
      ]
     },
     "metadata": {},
     "output_type": "display_data"
    },
    {
     "name": "stdout",
     "output_type": "stream",
     "text": [
      " Psi :: JFC \n",
      " Psi :: <MEME> \n",
      " Kappa :: Is this a fun time, don't have a job? \n",
      " Gamma :: The fuck \n",
      " Kappa :: Lol \n",
      " Kappa :: i hate this world \n",
      " Gamma :: Boris might always have COVID \n",
      " Kappa :: I'm not going to buy it \n",
      " Kappa :: i'm like being real and retarded \n",
      " Kappa :: i assume that's some good social commentary \n",
      " Kappa :: and then it's called someone's \n",
      "--------------------------------\n"
     ]
    },
    {
     "data": {
      "text/html": [],
      "text/plain": [
       "<IPython.core.display.HTML object>"
      ]
     },
     "metadata": {},
     "output_type": "display_data"
    },
    {
     "name": "stdout",
     "output_type": "stream",
     "text": [
      " Omega :: So i can get a pass to bring myself to a free crab event today \n",
      " Omega :: Yeah i have a fever, so, just because of a fever, i need the best for my life \n",
      " Kappa :: It's like a normal person \n",
      " Omega :: There's a lot of thoughts on what you've done \n",
      " Omega :: Ok \n",
      " Omega :: Maybe they're a family \n",
      " Omega :: Or the other way \n",
      "--------------------------------\n"
     ]
    },
    {
     "data": {
      "text/html": [],
      "text/plain": [
       "<IPython.core.display.HTML object>"
      ]
     },
     "metadata": {},
     "output_type": "display_data"
    },
    {
     "name": "stdout",
     "output_type": "stream",
     "text": [
      " Beta :: Damn it, it's so easy to do \n",
      " Omega :: Everyone is like a lot of people playing at the prison \n",
      " Omega :: That's you really about putting no Clown on the table \n",
      " Psi :: Also, he's the end of America :: i think it's the narrative\"\n",
      " Kappa :: That s a good cartoon for \"hot people\" he's \"to be\" so very wise of point \n",
      " Kappa :: Good spin on this web comic \n",
      "--------------------------------\n"
     ]
    },
    {
     "data": {
      "text/html": [],
      "text/plain": [
       "<IPython.core.display.HTML object>"
      ]
     },
     "metadata": {},
     "output_type": "display_data"
    },
    {
     "name": "stdout",
     "output_type": "stream",
     "text": [
      " Sigma :: i have no clue what the assignment is \n",
      " Omega :: The ravens are not playing their game \n",
      " Gamma :: They are going to vote for him, and nothing else will be shady \n",
      " Omega :: He needs to be dead \n",
      " Gamma :: And he's not subtle \n",
      " Kappa :: Is the game reopened? \n",
      " Psi :: Lighting beacons \n",
      " Omega :: Yes it is \n",
      " Omega :: But the beacons are lit \n",
      " Kappa :: Beacon lit \n",
      "--------------------------------\n"
     ]
    }
   ],
   "source": [
    "for sender in [\"Kappa\", \"Gamma\", \"Psi\", \"Omega\", \"Beta\", \"Sigma\"]:\n",
    "    y = generate(sender, 100)\n",
    "    print(y)\n",
    "    print(\"--------------------------------\")"
   ]
  },
  {
   "cell_type": "markdown",
   "metadata": {},
   "source": [
    "## Takeaway\n",
    "\n",
    "My primary takeaway is that this version of text generation is better in multiple ways. First, it generates objectively more reasonable text. It's not perfect and still identifiable as machine-generated, but it is definitely better than my previous attempt. Second, the entire process was much easier and there's a lot less code to write.  With my first attempt with PyTorch, training a model took a lot of work to adapt their example to my data. For this attempt, it's less than 20 lines of actual code (ignoring the output cleanup)."
   ]
  }
 ],
 "metadata": {
  "kernelspec": {
   "display_name": "Python 3",
   "language": "python",
   "name": "python3"
  },
  "language_info": {
   "codemirror_mode": {
    "name": "ipython",
    "version": 3
   },
   "file_extension": ".py",
   "mimetype": "text/x-python",
   "name": "python",
   "nbconvert_exporter": "python",
   "pygments_lexer": "ipython3",
   "version": "3.8.3"
  }
 },
 "nbformat": 4,
 "nbformat_minor": 4
}
