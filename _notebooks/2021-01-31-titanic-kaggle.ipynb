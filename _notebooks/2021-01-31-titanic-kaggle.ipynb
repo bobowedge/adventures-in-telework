{
 "cells": [
  {
   "cell_type": "markdown",
   "metadata": {},
   "source": [
    "# Kaggling into an Iceberg\n",
    "> Using random forest techniques to predict survival on the Titanic\n",
    "\n",
    "- toc: true\n",
    "- badges: true\n",
    "- comments: true\n",
    "- author: Matt Bowen\n",
    "- categories: [jupyter]\n",
    "- comments: true"
   ]
  },
  {
   "cell_type": "markdown",
   "metadata": {},
   "source": [
    "## Introduction\n",
    "\n",
    "The next lesson in the [fastai course](https://course.fast.ai/) covered tabular data. According to the course, the vast majority of datasets on tabular data are best modeled by ensembles of decision trees, such as random forests, so the lesson focused on them. \n",
    "\n",
    "They used a particular Kaggle competition, the [Blue Book for Bulldozers](https://www.kaggle.com/c/bluebook-for-bulldozers) as their hands-on example for walking through how to understand, build, train, and infer using decision trees and random forests.\n",
    "\n",
    "While I had heard of Kaggle previously, I had never used it myself before. Fortunately, Kaggle itself points you to the [Titanic](https://www.kaggle.com/c/titanic) competition as a starting point. The premise is that you're given a dataset of passengers on the Titanic and whether or not they survived to train on and you have to predict which passengers in another dataset of passengers survived. \n",
    "\n",
    "As my introduction to both Kaggle and random forests, I thought I would try to walk through the course's random forest discussion using the Titanic competition data and see what happens."
   ]
  },
  {
   "cell_type": "markdown",
   "metadata": {},
   "source": [
    "(In the collapse below is all the imports and pandas settings I'll end up using at the top just to keep them all together.)"
   ]
  },
  {
   "cell_type": "code",
   "execution_count": 2,
   "metadata": {},
   "outputs": [],
   "source": [
    "#collapse\n",
    "from fastai.tabular.all import *\n",
    "from sklearn.tree import DecisionTreeClassifier\n",
    "from sklearn.ensemble import RandomForestClassifier\n",
    "from sklearn.metrics import zero_one_loss\n",
    "\n",
    "# Pandas display options\n",
    "pd.options.display.max_rows = 20\n",
    "pd.options.display.max_columns = 8"
   ]
  },
  {
   "cell_type": "markdown",
   "metadata": {},
   "source": [
    "## Setup and Random Guess"
   ]
  },
  {
   "cell_type": "markdown",
   "metadata": {},
   "source": [
    "The competition provides three files: \n",
    " - training set (passenger data with 'Survived' column)\n",
    " - test set (passenger data with no 'Survived' column)\n",
    " - sample submission assuming all and only female passengers survived\n",
    " \n",
    "Since I'll use it often, I'll set up the dependent variable ('Survived') here as well."
   ]
  },
  {
   "cell_type": "code",
   "execution_count": 27,
   "metadata": {},
   "outputs": [],
   "source": [
    "dep_var = 'Survived'\n",
    "train_df = pd.read_csv(\"titanic_train.csv\", low_memory=False)\n",
    "test_df = pd.read_csv(\"titanic_test.csv\", low_memory=False)"
   ]
  },
  {
   "cell_type": "markdown",
   "metadata": {},
   "source": [
    "Here's what the training data looks like:"
   ]
  },
  {
   "cell_type": "code",
   "execution_count": 3,
   "metadata": {},
   "outputs": [
    {
     "data": {
      "text/html": [
       "<div>\n",
       "<style scoped>\n",
       "    .dataframe tbody tr th:only-of-type {\n",
       "        vertical-align: middle;\n",
       "    }\n",
       "\n",
       "    .dataframe tbody tr th {\n",
       "        vertical-align: top;\n",
       "    }\n",
       "\n",
       "    .dataframe thead th {\n",
       "        text-align: right;\n",
       "    }\n",
       "</style>\n",
       "<table border=\"1\" class=\"dataframe\">\n",
       "  <thead>\n",
       "    <tr style=\"text-align: right;\">\n",
       "      <th></th>\n",
       "      <th>PassengerId</th>\n",
       "      <th>Survived</th>\n",
       "      <th>Pclass</th>\n",
       "      <th>Name</th>\n",
       "      <th>...</th>\n",
       "      <th>Ticket</th>\n",
       "      <th>Fare</th>\n",
       "      <th>Cabin</th>\n",
       "      <th>Embarked</th>\n",
       "    </tr>\n",
       "  </thead>\n",
       "  <tbody>\n",
       "    <tr>\n",
       "      <th>0</th>\n",
       "      <td>1</td>\n",
       "      <td>0</td>\n",
       "      <td>3</td>\n",
       "      <td>Braund, Mr. Owen Harris</td>\n",
       "      <td>...</td>\n",
       "      <td>A/5 21171</td>\n",
       "      <td>7.2500</td>\n",
       "      <td>NaN</td>\n",
       "      <td>S</td>\n",
       "    </tr>\n",
       "    <tr>\n",
       "      <th>1</th>\n",
       "      <td>2</td>\n",
       "      <td>1</td>\n",
       "      <td>1</td>\n",
       "      <td>Cumings, Mrs. John Bradley (Florence Briggs Thayer)</td>\n",
       "      <td>...</td>\n",
       "      <td>PC 17599</td>\n",
       "      <td>71.2833</td>\n",
       "      <td>C85</td>\n",
       "      <td>C</td>\n",
       "    </tr>\n",
       "    <tr>\n",
       "      <th>2</th>\n",
       "      <td>3</td>\n",
       "      <td>1</td>\n",
       "      <td>3</td>\n",
       "      <td>Heikkinen, Miss. Laina</td>\n",
       "      <td>...</td>\n",
       "      <td>STON/O2. 3101282</td>\n",
       "      <td>7.9250</td>\n",
       "      <td>NaN</td>\n",
       "      <td>S</td>\n",
       "    </tr>\n",
       "    <tr>\n",
       "      <th>3</th>\n",
       "      <td>4</td>\n",
       "      <td>1</td>\n",
       "      <td>1</td>\n",
       "      <td>Futrelle, Mrs. Jacques Heath (Lily May Peel)</td>\n",
       "      <td>...</td>\n",
       "      <td>113803</td>\n",
       "      <td>53.1000</td>\n",
       "      <td>C123</td>\n",
       "      <td>S</td>\n",
       "    </tr>\n",
       "    <tr>\n",
       "      <th>4</th>\n",
       "      <td>5</td>\n",
       "      <td>0</td>\n",
       "      <td>3</td>\n",
       "      <td>Allen, Mr. William Henry</td>\n",
       "      <td>...</td>\n",
       "      <td>373450</td>\n",
       "      <td>8.0500</td>\n",
       "      <td>NaN</td>\n",
       "      <td>S</td>\n",
       "    </tr>\n",
       "    <tr>\n",
       "      <th>...</th>\n",
       "      <td>...</td>\n",
       "      <td>...</td>\n",
       "      <td>...</td>\n",
       "      <td>...</td>\n",
       "      <td>...</td>\n",
       "      <td>...</td>\n",
       "      <td>...</td>\n",
       "      <td>...</td>\n",
       "      <td>...</td>\n",
       "    </tr>\n",
       "    <tr>\n",
       "      <th>886</th>\n",
       "      <td>887</td>\n",
       "      <td>0</td>\n",
       "      <td>2</td>\n",
       "      <td>Montvila, Rev. Juozas</td>\n",
       "      <td>...</td>\n",
       "      <td>211536</td>\n",
       "      <td>13.0000</td>\n",
       "      <td>NaN</td>\n",
       "      <td>S</td>\n",
       "    </tr>\n",
       "    <tr>\n",
       "      <th>887</th>\n",
       "      <td>888</td>\n",
       "      <td>1</td>\n",
       "      <td>1</td>\n",
       "      <td>Graham, Miss. Margaret Edith</td>\n",
       "      <td>...</td>\n",
       "      <td>112053</td>\n",
       "      <td>30.0000</td>\n",
       "      <td>B42</td>\n",
       "      <td>S</td>\n",
       "    </tr>\n",
       "    <tr>\n",
       "      <th>888</th>\n",
       "      <td>889</td>\n",
       "      <td>0</td>\n",
       "      <td>3</td>\n",
       "      <td>Johnston, Miss. Catherine Helen \"Carrie\"</td>\n",
       "      <td>...</td>\n",
       "      <td>W./C. 6607</td>\n",
       "      <td>23.4500</td>\n",
       "      <td>NaN</td>\n",
       "      <td>S</td>\n",
       "    </tr>\n",
       "    <tr>\n",
       "      <th>889</th>\n",
       "      <td>890</td>\n",
       "      <td>1</td>\n",
       "      <td>1</td>\n",
       "      <td>Behr, Mr. Karl Howell</td>\n",
       "      <td>...</td>\n",
       "      <td>111369</td>\n",
       "      <td>30.0000</td>\n",
       "      <td>C148</td>\n",
       "      <td>C</td>\n",
       "    </tr>\n",
       "    <tr>\n",
       "      <th>890</th>\n",
       "      <td>891</td>\n",
       "      <td>0</td>\n",
       "      <td>3</td>\n",
       "      <td>Dooley, Mr. Patrick</td>\n",
       "      <td>...</td>\n",
       "      <td>370376</td>\n",
       "      <td>7.7500</td>\n",
       "      <td>NaN</td>\n",
       "      <td>Q</td>\n",
       "    </tr>\n",
       "  </tbody>\n",
       "</table>\n",
       "<p>891 rows × 12 columns</p>\n",
       "</div>"
      ],
      "text/plain": [
       "     PassengerId  Survived  Pclass  \\\n",
       "0              1         0       3   \n",
       "1              2         1       1   \n",
       "2              3         1       3   \n",
       "3              4         1       1   \n",
       "4              5         0       3   \n",
       "..           ...       ...     ...   \n",
       "886          887         0       2   \n",
       "887          888         1       1   \n",
       "888          889         0       3   \n",
       "889          890         1       1   \n",
       "890          891         0       3   \n",
       "\n",
       "                                                    Name  ...  \\\n",
       "0                                Braund, Mr. Owen Harris  ...   \n",
       "1    Cumings, Mrs. John Bradley (Florence Briggs Thayer)  ...   \n",
       "2                                 Heikkinen, Miss. Laina  ...   \n",
       "3           Futrelle, Mrs. Jacques Heath (Lily May Peel)  ...   \n",
       "4                               Allen, Mr. William Henry  ...   \n",
       "..                                                   ...  ...   \n",
       "886                                Montvila, Rev. Juozas  ...   \n",
       "887                         Graham, Miss. Margaret Edith  ...   \n",
       "888             Johnston, Miss. Catherine Helen \"Carrie\"  ...   \n",
       "889                                Behr, Mr. Karl Howell  ...   \n",
       "890                                  Dooley, Mr. Patrick  ...   \n",
       "\n",
       "               Ticket     Fare  Cabin  Embarked  \n",
       "0           A/5 21171   7.2500    NaN         S  \n",
       "1            PC 17599  71.2833    C85         C  \n",
       "2    STON/O2. 3101282   7.9250    NaN         S  \n",
       "3              113803  53.1000   C123         S  \n",
       "4              373450   8.0500    NaN         S  \n",
       "..                ...      ...    ...       ...  \n",
       "886            211536  13.0000    NaN         S  \n",
       "887            112053  30.0000    B42         S  \n",
       "888        W./C. 6607  23.4500    NaN         S  \n",
       "889            111369  30.0000   C148         C  \n",
       "890            370376   7.7500    NaN         Q  \n",
       "\n",
       "[891 rows x 12 columns]"
      ]
     },
     "execution_count": 3,
     "metadata": {},
     "output_type": "execute_result"
    }
   ],
   "source": [
    "train_df"
   ]
  },
  {
   "cell_type": "markdown",
   "metadata": {},
   "source": [
    "The competition page has a description of each of the columns, so I won't rehash those here."
   ]
  },
  {
   "cell_type": "markdown",
   "metadata": {},
   "source": [
    "As a first pass to give something to compare against, I built a randomly chosen set where the survival was determined at random based on the survival rate of the training data. The score for this random set ended up being 52.39%."
   ]
  },
  {
   "cell_type": "code",
   "execution_count": 4,
   "metadata": {},
   "outputs": [],
   "source": [
    "##\n",
    "# Submit random set\n",
    "total_died, total_survived = train_df.value_counts(dep_var)\n",
    "ratio = total_died / (total_survived + total_died)\n",
    "test_length = len(test_df)\n",
    "random_survived = np.random.choice(2, test_length, p=[ratio, 1 - ratio])\n",
    "random_data_frame = pd.DataFrame({'PassengerId': test_df['PassengerId'], 'Survived' : random_survived})\n",
    "random_data_frame.to_csv(\"titanic_random.csv\", index=False)"
   ]
  },
  {
   "cell_type": "markdown",
   "metadata": {},
   "source": [
    "`!kaggle competitions submit -c titanic -f titanic_random.csv -m \"Random based on survival rate\"`"
   ]
  },
  {
   "cell_type": "code",
   "execution_count": 5,
   "metadata": {},
   "outputs": [
    {
     "name": "stdout",
     "output_type": "stream",
     "text": [
      "Score: 0.52392\n"
     ]
    }
   ],
   "source": [
    "# hide_input\n",
    "print(f\"Score: {0.52392}\")"
   ]
  },
  {
   "cell_type": "markdown",
   "metadata": {},
   "source": [
    "## Decision Trees\n",
    "\n",
    "Now, it's time to do something other than just guess. I started by splitting the categorical and continuous columns using a `fastai` designed specifically for that. Then, I split the provided training data into training and validation sets using `TabularPandas`."
   ]
  },
  {
   "cell_type": "code",
   "execution_count": 60,
   "metadata": {},
   "outputs": [
    {
     "name": "stdout",
     "output_type": "stream",
     "text": [
      "Continuous columns: ['PassengerId', 'Pclass', 'Age', 'SibSp', 'Parch', 'Fare']\n",
      "Categorical columns: ['Name', 'Sex', 'Ticket', 'Cabin', 'Embarked']\n"
     ]
    }
   ],
   "source": [
    "##\n",
    "# Split the columns into categorical and continuous\n",
    "cont_cols, cat_cols = cont_cat_split(train_df, 1, dep_var=dep_var)\n",
    "print(f\"Continuous columns: {cont_cols}\")\n",
    "print(f\"Categorical columns: {cat_cols}\")"
   ]
  },
  {
   "cell_type": "code",
   "execution_count": 61,
   "metadata": {},
   "outputs": [
    {
     "data": {
      "text/plain": [
       "(713, 178)"
      ]
     },
     "execution_count": 61,
     "metadata": {},
     "output_type": "execute_result"
    }
   ],
   "source": [
    "##\n",
    "# Operations for columns\n",
    "column_ops = [Categorify, FillMissing]\n",
    "# Split the training data randomly\n",
    "splits = RandomSplitter()(range_of(train_df))\n",
    "tab_panda = TabularPandas(train_df, column_ops ,cat_cols, cont_cols, y_names=dep_var, splits=splits)\n",
    "trainxs, trainy = tab_panda.train.xs, tab_panda.train.y\n",
    "validxs, validy = tab_panda.valid.xs, tab_panda.valid.y\n",
    "len(trainxs), len(validxs)"
   ]
  },
  {
   "cell_type": "code",
   "execution_count": 62,
   "metadata": {},
   "outputs": [
    {
     "data": {
      "text/html": [
       "<table border=\"1\" class=\"dataframe\">\n",
       "  <thead>\n",
       "    <tr style=\"text-align: right;\">\n",
       "      <th></th>\n",
       "      <th>Name</th>\n",
       "      <th>Sex</th>\n",
       "      <th>Ticket</th>\n",
       "      <th>Cabin</th>\n",
       "      <th>Embarked</th>\n",
       "      <th>Age_na</th>\n",
       "      <th>PassengerId</th>\n",
       "      <th>Pclass</th>\n",
       "      <th>Age</th>\n",
       "      <th>SibSp</th>\n",
       "      <th>Parch</th>\n",
       "      <th>Fare</th>\n",
       "      <th>Survived</th>\n",
       "    </tr>\n",
       "  </thead>\n",
       "  <tbody>\n",
       "    <tr>\n",
       "      <th>420</th>\n",
       "      <td>Gheorgheff, Mr. Stanio</td>\n",
       "      <td>male</td>\n",
       "      <td>349254</td>\n",
       "      <td>#na#</td>\n",
       "      <td>C</td>\n",
       "      <td>True</td>\n",
       "      <td>421</td>\n",
       "      <td>3</td>\n",
       "      <td>28.0</td>\n",
       "      <td>0</td>\n",
       "      <td>0</td>\n",
       "      <td>7.8958</td>\n",
       "      <td>0</td>\n",
       "    </tr>\n",
       "    <tr>\n",
       "      <th>392</th>\n",
       "      <td>Gustafsson, Mr. Johan Birger</td>\n",
       "      <td>male</td>\n",
       "      <td>3101277</td>\n",
       "      <td>#na#</td>\n",
       "      <td>S</td>\n",
       "      <td>False</td>\n",
       "      <td>393</td>\n",
       "      <td>3</td>\n",
       "      <td>28.0</td>\n",
       "      <td>2</td>\n",
       "      <td>0</td>\n",
       "      <td>7.9250</td>\n",
       "      <td>0</td>\n",
       "    </tr>\n",
       "    <tr>\n",
       "      <th>238</th>\n",
       "      <td>Pengelly, Mr. Frederick William</td>\n",
       "      <td>male</td>\n",
       "      <td>28665</td>\n",
       "      <td>#na#</td>\n",
       "      <td>S</td>\n",
       "      <td>False</td>\n",
       "      <td>239</td>\n",
       "      <td>2</td>\n",
       "      <td>19.0</td>\n",
       "      <td>0</td>\n",
       "      <td>0</td>\n",
       "      <td>10.5000</td>\n",
       "      <td>0</td>\n",
       "    </tr>\n",
       "  </tbody>\n",
       "</table>"
      ],
      "text/plain": [
       "<IPython.core.display.HTML object>"
      ]
     },
     "metadata": {},
     "output_type": "display_data"
    }
   ],
   "source": [
    "tab_panda.show(3)"
   ]
  },
  {
   "cell_type": "markdown",
   "metadata": {},
   "source": [
    "The lesson used a `DecisionTreeRegressor`, but since 'Survived' is a categorical and not continuous variable, I used `DecisionTreeClassifier` instead. For the same reason, `zero_one_loss` makes more sense to be the loss function rather than using the mean square error."
   ]
  },
  {
   "cell_type": "code",
   "execution_count": null,
   "metadata": {},
   "outputs": [],
   "source": [
    "##\n",
    "# Simple decision tree classifier\n",
    "model = DecisionTreeClassifier()\n",
    "model.fit(trainxs, trainy)\n",
    "print(f\"Error: {zero_one_loss(model.predict(validxs), validy)}\")"
   ]
  },
  {
   "cell_type": "code",
   "execution_count": 64,
   "metadata": {},
   "outputs": [
    {
     "name": "stdout",
     "output_type": "stream",
     "text": [
      "Error: 0.2415730337078652\n"
     ]
    }
   ],
   "source": [
    "# hide_input\n",
    "print(f\"Error: 0.2415730337078652\")"
   ]
  },
  {
   "cell_type": "markdown",
   "metadata": {},
   "source": [
    "Essentially, this is saying the model got ~24% of the validation passenger set wrong when predicting their survival.\n",
    "\n",
    "In the default, the model can split a node as long as there is at least 1 sample for each leaf. Following the lesson, I checked to see how many leaves for my model were created vs. how many rows in the training data"
   ]
  },
  {
   "cell_type": "code",
   "execution_count": 11,
   "metadata": {},
   "outputs": [
    {
     "data": {
      "text/plain": [
       "(117, 713)"
      ]
     },
     "execution_count": 11,
     "metadata": {},
     "output_type": "execute_result"
    }
   ],
   "source": [
    "model.get_n_leaves(), len(trainxs)"
   ]
  },
  {
   "cell_type": "markdown",
   "metadata": {},
   "source": [
    "The Titanic dataset is much, much smaller than the Blue Book of Bulldozers dataset, but this number of leaves seemed reasonable to me (6 per leaf or so). However, because it was easy to do so, I decided to iterate the `min_samples_leaf` parameter to try to get a better model:"
   ]
  },
  {
   "cell_type": "code",
   "execution_count": null,
   "metadata": {},
   "outputs": [],
   "source": [
    "##\n",
    "# min_samples_leaf optimization\n",
    "best_error, best_min_samples, best_model = (None, None, None)\n",
    "for min_samples in range(1, 21):\n",
    "    model = DecisionTreeClassifier(min_samples_leaf=min_samples)\n",
    "    model.fit(trainxs, trainy)\n",
    "    error = zero_one_loss(model.predict(validxs), validy)\n",
    "    if best_error is None or best_error > error:\n",
    "        best_error, best_min_samples, best_model = (error,  min_samples, model)\n",
    "print(f\"Best model error: {best_error}\")\n",
    "print(f\"Min samples per leaf: {best_min_samples}, Number leaves: {best_model.get_n_leaves()}\")"
   ]
  },
  {
   "cell_type": "code",
   "execution_count": 13,
   "metadata": {},
   "outputs": [
    {
     "name": "stdout",
     "output_type": "stream",
     "text": [
      "Best model error: 0.1966292134831461\n",
      "Min samples per leaf: 3, Number leaves: 70\n"
     ]
    }
   ],
   "source": [
    "#hide_input\n",
    "print(f\"Best model error: {0.1966292134831461}\")\n",
    "print(f\"Min samples per leaf: {3}, Number leaves: {70}\")"
   ]
  },
  {
   "cell_type": "markdown",
   "metadata": {},
   "source": [
    "The default minimum samples per leaf is 1 for DecisionTreeClassifier, but it seems the optimization helped. A minimum of 3 samples per leaf yields a better result on the validation, so I'll use that model to submit to kaggle.\n",
    "\n",
    "### Data Cleanup\n",
    "\n",
    "Before I could predict using that model, there is an issue with the test data that had to be addressed. The 'Fare' column had a null value for one of the test passengers, while neither the test or valid set had any null values in that column. \n",
    "\n",
    "A standard way to fill in that value is to use the mean of the training set, so that's what I did. Pandas makes this substitution pretty easy, once you figure out the proper syntax."
   ]
  },
  {
   "cell_type": "code",
   "execution_count": 28,
   "metadata": {},
   "outputs": [
    {
     "data": {
      "text/html": [
       "<div>\n",
       "<style scoped>\n",
       "    .dataframe tbody tr th:only-of-type {\n",
       "        vertical-align: middle;\n",
       "    }\n",
       "\n",
       "    .dataframe tbody tr th {\n",
       "        vertical-align: top;\n",
       "    }\n",
       "\n",
       "    .dataframe thead th {\n",
       "        text-align: right;\n",
       "    }\n",
       "</style>\n",
       "<table border=\"1\" class=\"dataframe\">\n",
       "  <thead>\n",
       "    <tr style=\"text-align: right;\">\n",
       "      <th></th>\n",
       "      <th>PassengerId</th>\n",
       "      <th>Pclass</th>\n",
       "      <th>Name</th>\n",
       "      <th>Sex</th>\n",
       "      <th>...</th>\n",
       "      <th>Ticket</th>\n",
       "      <th>Fare</th>\n",
       "      <th>Cabin</th>\n",
       "      <th>Embarked</th>\n",
       "    </tr>\n",
       "  </thead>\n",
       "  <tbody>\n",
       "    <tr>\n",
       "      <th>152</th>\n",
       "      <td>1044</td>\n",
       "      <td>3</td>\n",
       "      <td>Storey, Mr. Thomas</td>\n",
       "      <td>male</td>\n",
       "      <td>...</td>\n",
       "      <td>3701</td>\n",
       "      <td>32.204208</td>\n",
       "      <td>NaN</td>\n",
       "      <td>S</td>\n",
       "    </tr>\n",
       "  </tbody>\n",
       "</table>\n",
       "<p>1 rows × 11 columns</p>\n",
       "</div>"
      ],
      "text/plain": [
       "     PassengerId  Pclass                Name   Sex  ...  Ticket       Fare  \\\n",
       "152         1044       3  Storey, Mr. Thomas  male  ...    3701  32.204208   \n",
       "\n",
       "     Cabin Embarked  \n",
       "152    NaN        S  \n",
       "\n",
       "[1 rows x 11 columns]"
      ]
     },
     "metadata": {},
     "output_type": "display_data"
    }
   ],
   "source": [
    "##\n",
    "# Find the null row(s) in the 'Fare' column\n",
    "nan_row = test_df[test_df['Fare'].isnull()]\n",
    "# Set the fare in that row to the mean of the training data\n",
    "test_df.at[nan_row.index, 'Fare'] = train_df['Fare'].mean()\n",
    "# Display the newly fixed row\n",
    "display(test_df.loc[nan_row.index])"
   ]
  },
  {
   "cell_type": "markdown",
   "metadata": {},
   "source": [
    "With the row fixed, I converted the test data to a `TabularPandas`. We'll use this again and again to feed into our models for survival prediction."
   ]
  },
  {
   "cell_type": "code",
   "execution_count": 15,
   "metadata": {},
   "outputs": [],
   "source": [
    "##\n",
    "# Convert test data to TabularPandas\n",
    "test_tab = TabularPandas(test_df, [Categorify, FillMissing], cat_cols, cont_cols)"
   ]
  },
  {
   "cell_type": "markdown",
   "metadata": {},
   "source": [
    "### Decision Tree Results\n",
    "\n",
    "With the test data cleaned up, I used the best decision tree model that I found to predict the survivors on the test set and submit the results to kaggle:"
   ]
  },
  {
   "cell_type": "code",
   "execution_count": 16,
   "metadata": {},
   "outputs": [],
   "source": [
    "##\n",
    "# Decision Tree Classifier set (Score: 0.70813)\n",
    "# Predict the survivors\n",
    "dt_survived = best_model.predict(test_tab.xs)\n",
    "\n",
    "test_length = len(test_df)\n",
    "dt_df = pd.DataFrame({'PassengerId': test_df['PassengerId'], 'Survived' : dt_survived})\n",
    "dt_df.to_csv(\"titanic_dt.csv\", index=False)"
   ]
  },
  {
   "cell_type": "markdown",
   "metadata": {},
   "source": [
    "`!kaggle competitions submit -c titanic -f titanic_dt.csv -m \"Single decision tree\"`"
   ]
  },
  {
   "cell_type": "code",
   "execution_count": 17,
   "metadata": {},
   "outputs": [
    {
     "name": "stdout",
     "output_type": "stream",
     "text": [
      "Score: 0.70813\n"
     ]
    }
   ],
   "source": [
    "# hide_input\n",
    "print(f\"Score: {0.70813}\")"
   ]
  },
  {
   "cell_type": "markdown",
   "metadata": {},
   "source": [
    "## Random Forest\n",
    "\n",
    "If one decision tree is good, how about more? Next, I'll walk through the random forests of decision trees that create to tackle this competition.\n",
    "\n",
    "Following the course approach, I made a function to make creating a random forest and fit it in single step. Similar to above, since I'm looking for a yes or no answer, instead of a continuous one, I'll use `RandomForestClassifier` instead of a regression model."
   ]
  },
  {
   "cell_type": "code",
   "execution_count": 18,
   "metadata": {},
   "outputs": [],
   "source": [
    "##\n",
    "# create random forest and fit it\n",
    "def create_rf(xs, y, n_estimators=40, max_features=0.5, min_samples_leaf=5, **kwargs):\n",
    "    return RandomForestClassifier(n_jobs=-1, n_estimators=n_estimators, max_features=max_features, \n",
    "                                  min_samples_leaf=min_samples_leaf, oob_score=True).fit(xs, y)"
   ]
  },
  {
   "cell_type": "markdown",
   "metadata": {},
   "source": [
    "With that function, I can create a random forest, fit it to the training data, and score it against the validation data:"
   ]
  },
  {
   "cell_type": "code",
   "execution_count": null,
   "metadata": {},
   "outputs": [],
   "source": [
    "##\n",
    "# First pass model with error\n",
    "# Model error: 0.1797752808988764\n",
    "# Model oob error: 0.18513323983169705\n",
    "model = create_rf(trainxs, trainy)\n",
    "error = zero_one_loss(model.predict(validxs), validy)\n",
    "print(f\"Model error: {error}\")\n",
    "print(f\"Model oob error: {1.0 - model.oob_score_}\")"
   ]
  },
  {
   "cell_type": "code",
   "execution_count": 20,
   "metadata": {},
   "outputs": [
    {
     "name": "stdout",
     "output_type": "stream",
     "text": [
      "Model error: 0.1797752808988764\n",
      "Model oob error: 0.18513323983169705\n"
     ]
    }
   ],
   "source": [
    "#hide_input\n",
    "print(f\"Model error: {0.1797752808988764}\")\n",
    "print(f\"Model oob error: {0.18513323983169705}\")"
   ]
  },
  {
   "cell_type": "markdown",
   "metadata": {},
   "source": [
    "If 40 trees (`n_estimators`) is good, how about [more](https://imgflip.com/i/4u7pgw)? \n",
    "\n",
    "Let's look at models with more trees (`n_estimators`) and see how they do."
   ]
  },
  {
   "cell_type": "code",
   "execution_count": null,
   "metadata": {},
   "outputs": [],
   "source": [
    "##\n",
    "# Number of trees (n_estimators) optimization\n",
    "best_error, best_trees, best_model = (None, None, None)\n",
    "for num_trees in range(40, 300, 20):\n",
    "    model = create_rf(trainxs, trainy, n_estimators=num_trees)\n",
    "    error = zero_one_loss(model.predict(validxs), validy)\n",
    "    if best_error is None or best_error > error:\n",
    "        best_error, best_trees, best_model = (error, num_trees, model)\n",
    "    print(f\"Num trees: {num_trees}, error: {error}, oob: {1.0 - model.oob_score_}\")\n",
    "print(f\"Best model error: {best_error}, num trees: {best_trees}\")"
   ]
  },
  {
   "cell_type": "code",
   "execution_count": 22,
   "metadata": {
    "scrolled": true
   },
   "outputs": [
    {
     "name": "stdout",
     "output_type": "stream",
     "text": [
      "Num trees: 40, error: 0.1797752808988764, oob: 0.18513323983169705\n",
      "Num trees: 60, error: 0.1685393258426966, oob: 0.18793828892005615\n",
      "Num trees: 80, error: 0.1741573033707865, oob: 0.1893408134642356\n",
      "Num trees: 100, error: 0.1797752808988764, oob: 0.1837307152875175\n",
      "Num trees: 120, error: 0.1629213483146067, oob: 0.18793828892005615\n",
      "Num trees: 140, error: 0.1685393258426966, oob: 0.1837307152875175\n",
      "Num trees: 160, error: 0.1685393258426966, oob: 0.1865357643758766\n",
      "Num trees: 180, error: 0.1685393258426966, oob: 0.1865357643758766\n",
      "Num trees: 200, error: 0.1629213483146067, oob: 0.1893408134642356\n",
      "Num trees: 220, error: 0.1629213483146067, oob: 0.18513323983169705\n",
      "Num trees: 240, error: 0.1685393258426966, oob: 0.1837307152875175\n",
      "Num trees: 260, error: 0.1685393258426966, oob: 0.18232819074333806\n",
      "Num trees: 280, error: 0.1741573033707865, oob: 0.1781206171107994\n",
      "Best model error: 0.1629213483146067, num trees: 120\n"
     ]
    }
   ],
   "source": [
    "#hide_input\n",
    "print('''Num trees: 40, error: 0.1797752808988764, oob: 0.18513323983169705\n",
    "Num trees: 60, error: 0.1685393258426966, oob: 0.18793828892005615\n",
    "Num trees: 80, error: 0.1741573033707865, oob: 0.1893408134642356\n",
    "Num trees: 100, error: 0.1797752808988764, oob: 0.1837307152875175\n",
    "Num trees: 120, error: 0.1629213483146067, oob: 0.18793828892005615\n",
    "Num trees: 140, error: 0.1685393258426966, oob: 0.1837307152875175\n",
    "Num trees: 160, error: 0.1685393258426966, oob: 0.1865357643758766\n",
    "Num trees: 180, error: 0.1685393258426966, oob: 0.1865357643758766\n",
    "Num trees: 200, error: 0.1629213483146067, oob: 0.1893408134642356\n",
    "Num trees: 220, error: 0.1629213483146067, oob: 0.18513323983169705\n",
    "Num trees: 240, error: 0.1685393258426966, oob: 0.1837307152875175\n",
    "Num trees: 260, error: 0.1685393258426966, oob: 0.18232819074333806\n",
    "Num trees: 280, error: 0.1741573033707865, oob: 0.1781206171107994\n",
    "Best model error: 0.1629213483146067, num trees: 120''')"
   ]
  },
  {
   "cell_type": "markdown",
   "metadata": {},
   "source": [
    "The model with 120 (or 200 or 220) trees seems to fare best, but all that much better than the model with 40 trees. I'm no expert, I think it is due to the \n",
    "[*out-of-bag error*](https://en.wikipedia.org/wiki/Out-of-bag_error). For all of the models, the `oob error` is more than the validation error. That would seem to indicate that the model can't really improve with more adding more trees, but could just be better by random chance.\n",
    "\n",
    "That said, since they are easy to create and the submission rules for the Titanic competition are generous, I submitted the predictions from the 40-tree, 120-tree, 140-tree, 160-tree, and 220-tree models just to see how they would do."
   ]
  },
  {
   "cell_type": "code",
   "execution_count": 23,
   "metadata": {},
   "outputs": [],
   "source": [
    "##\n",
    "# A few models with different numbers of trees\n",
    "for num_trees in [40, 120, 140, 160, 220]:\n",
    "    model = create_rf(trainxs, trainy, n_estimators=num_trees)\n",
    "    rf_survived = model.predict(test_tab.xs)\n",
    "    rf_df = pd.DataFrame({'PassengerId': test_df['PassengerId'], 'Survived' : rf_survived})\n",
    "    rf_df.to_csv(f\"titanic_rf_{num_trees}.csv\", index=False)"
   ]
  },
  {
   "cell_type": "markdown",
   "metadata": {},
   "source": [
    "`!kaggle competitions submit -c titanic -f titanic_rf_40.csv -m \"Random forest classifier with 40 trees\"`"
   ]
  },
  {
   "cell_type": "code",
   "execution_count": 24,
   "metadata": {},
   "outputs": [
    {
     "name": "stdout",
     "output_type": "stream",
     "text": [
      "40-tree model score: 0.75598\n"
     ]
    }
   ],
   "source": [
    "# hide_input\n",
    "print(f\"40-tree model score: {0.75598}\")"
   ]
  },
  {
   "cell_type": "markdown",
   "metadata": {},
   "source": [
    "`!kaggle competitions submit -c titanic -f titanic_rf_120.csv -m \"Random forest classifier with 120 trees\"`"
   ]
  },
  {
   "cell_type": "code",
   "execution_count": 25,
   "metadata": {},
   "outputs": [
    {
     "name": "stdout",
     "output_type": "stream",
     "text": [
      "120-tree model score: 0.76794\n"
     ]
    }
   ],
   "source": [
    "# hide_input\n",
    "print(f\"120-tree model score: {0.76794}\")"
   ]
  },
  {
   "cell_type": "markdown",
   "metadata": {},
   "source": [
    "`!kaggle competitions submit -c titanic -f titanic_rf_140.csv -m \"Random forest classifier with 140 trees\"`"
   ]
  },
  {
   "cell_type": "code",
   "execution_count": 26,
   "metadata": {},
   "outputs": [
    {
     "name": "stdout",
     "output_type": "stream",
     "text": [
      "140-tree model score: 0.76076\n"
     ]
    }
   ],
   "source": [
    "# hide_input\n",
    "print(f\"140-tree model score: {0.76076}\")"
   ]
  },
  {
   "cell_type": "markdown",
   "metadata": {},
   "source": [
    "`!kaggle competitions submit -c titanic -f titanic_rf_160.csv -m \"Random forest classifier with 160 trees\"`"
   ]
  },
  {
   "cell_type": "code",
   "execution_count": 27,
   "metadata": {},
   "outputs": [
    {
     "name": "stdout",
     "output_type": "stream",
     "text": [
      "160-tree model score: 0.76555\n"
     ]
    }
   ],
   "source": [
    "# hide_input\n",
    "print(f\"160-tree model score: {0.76555}\")"
   ]
  },
  {
   "cell_type": "markdown",
   "metadata": {},
   "source": [
    "`!kaggle competitions submit -c titanic -f titanic_rf_220.csv -m \"Random forest classifier with 220 trees\"`"
   ]
  },
  {
   "cell_type": "code",
   "execution_count": 28,
   "metadata": {},
   "outputs": [
    {
     "name": "stdout",
     "output_type": "stream",
     "text": [
      "220-tree model score: 0.77272\n"
     ]
    }
   ],
   "source": [
    "# hide_input\n",
    "print(f\"220-tree model score: {0.77272}\")"
   ]
  },
  {
   "cell_type": "markdown",
   "metadata": {},
   "source": [
    "Although the 220-tree model ended up doing the best, increasing the number of trees didn't significantly improve the results. (For reference, the percentage difference between the 40-tree and 220-tree model corresponds to 8 people.) I'm not convinced it's anything other than random chance.\n",
    "\n",
    "That said, how about [even more](https://memegenerator.net/instance/76641465/billy-mays-but-wait-but-wait-theres-even-more) trees? 3000-tree model inbound:"
   ]
  },
  {
   "cell_type": "code",
   "execution_count": 29,
   "metadata": {},
   "outputs": [],
   "source": [
    "model3000 = create_rf(trainxs, trainy, n_estimators=3000)\n",
    "rf_survived = model3000.predict(test_tab.xs)\n",
    "rf_rf = pd.DataFrame({'PassengerId': test_df['PassengerId'], 'Survived' : rf_survived})\n",
    "rf_rf.to_csv(f\"titanic_rf_3000.csv\", index=False)"
   ]
  },
  {
   "cell_type": "markdown",
   "metadata": {},
   "source": [
    "`!kaggle competitions submit -c titanic -f titanic_rf_300.csv -m \"Random forest classifier with 3000 trees\"`"
   ]
  },
  {
   "cell_type": "code",
   "execution_count": 30,
   "metadata": {},
   "outputs": [
    {
     "name": "stdout",
     "output_type": "stream",
     "text": [
      "3000-tree model score: 0.76555\n"
     ]
    }
   ],
   "source": [
    "# hide_input\n",
    "print(f\"3000-tree model score: {0.76555}\")"
   ]
  },
  {
   "cell_type": "markdown",
   "metadata": {},
   "source": [
    "And, it's worse than 220-tree model. I think this supports my earlier assertion that some of the models with more trees are better than the 40 tree model by random chance, rather than anything learned within the models."
   ]
  },
  {
   "cell_type": "markdown",
   "metadata": {},
   "source": [
    "### Aside: Simpler models\n",
    "\n",
    "At this point, before getting into some feature engineering, I went back and read on Kaggle a little bit more about the Titanic competition. As I mentioned above, one of the provided files was a sample submission file where the survivors were assumed to be only and all the female passengers (as determined by the 'Sex' column). How does that submission score?\n",
    "\n",
    "`!kaggle competitions submit -c titanic -f gender_submssion.csv -m \"Only and all female passengers survive\"`"
   ]
  },
  {
   "cell_type": "code",
   "execution_count": 31,
   "metadata": {},
   "outputs": [
    {
     "name": "stdout",
     "output_type": "stream",
     "text": [
      "Female only model score: 0.76555\n"
     ]
    }
   ],
   "source": [
    "# hide_input\n",
    "print(f\"Female only model score: {0.76555}\")"
   ]
  },
  {
   "cell_type": "markdown",
   "metadata": {},
   "source": [
    "This simple model achieved the same score as the 3000-tree model! Let's take a look at the importance of each feature, according to that 3000-tree model. (Again, this is adapted directly from the course.)"
   ]
  },
  {
   "cell_type": "code",
   "execution_count": 32,
   "metadata": {},
   "outputs": [
    {
     "data": {
      "text/plain": [
       "<AxesSubplot:ylabel='cols'>"
      ]
     },
     "execution_count": 32,
     "metadata": {},
     "output_type": "execute_result"
    },
    {
     "data": {
      "image/png": "[encoded data removed]",
      "text/plain": [
       "<Figure size 864x504 with 1 Axes>"
      ]
     },
     "metadata": {
      "needs_background": "light"
     },
     "output_type": "display_data"
    }
   ],
   "source": [
    "def feature_importance(m, df):\n",
    "    return pd.DataFrame({'cols':df.columns, 'imp':m.feature_importances_}).sort_values('imp', ascending=True)\n",
    "fi = feature_importance(model3000, trainxs)\n",
    "fi.plot('cols', 'imp', 'barh', figsize=(12,7), legend=False)"
   ]
  },
  {
   "cell_type": "markdown",
   "metadata": {},
   "source": [
    "From the bar chart, it is abundantly clear that 'Sex' is the most telling feature, with everything else trailing. That said, the 3000-tree model and female-only model actual differ in 62 (of 418) predictions, so they are finding slightly different spaces with the same score.\n",
    "\n",
    "Because I haven't been able to get [this song](https://youtu.be/2rP1gD9xXkU?t=32) (no, not [that one](https://en.wikipedia.org/wiki/My_Heart_Will_Go_On)) out of my head, I also tried \"the women and children fled to the lifeboats put to sea\" model. That is, all the women and children survived (but no one else)."
   ]
  },
  {
   "cell_type": "code",
   "execution_count": 33,
   "metadata": {},
   "outputs": [],
   "source": [
    "##\n",
    "# Women and children survival model\n",
    "wac_test_df = pd.DataFrame(test_df)\n",
    "wac_test_df['Survived'] = np.ones(len(wac_test_df), dtype=int)\n",
    "wac_cond = (wac_test_df.Sex == 'female') | (wac_test_df.Age < 18)\n",
    "wac_test_df['Survived'].where(wac_cond, 0, inplace=True)\n",
    "wac_submit = wac_test_df.loc[:,['PassengerId','Survived']]\n",
    "wac_submit.to_csv(\"titanic_wac.csv\", index=False)"
   ]
  },
  {
   "cell_type": "markdown",
   "metadata": {},
   "source": [
    "`#!kaggle competitions submit -c titanic -f titanic_wac.csv -m \"Women and children fled to the lifeboats put to sea\"`"
   ]
  },
  {
   "cell_type": "code",
   "execution_count": 34,
   "metadata": {
    "scrolled": true
   },
   "outputs": [
    {
     "name": "stdout",
     "output_type": "stream",
     "text": [
      "Women and children model score: 0.74641\n"
     ]
    }
   ],
   "source": [
    "# hide_input\n",
    "print(f\"Women and children model score: {0.74641}\")"
   ]
  },
  {
   "cell_type": "markdown",
   "metadata": {},
   "source": [
    "This model scores worse, but not dramatically so."
   ]
  },
  {
   "cell_type": "markdown",
   "metadata": {},
   "source": [
    "## Feature Engineering\n",
    "\n",
    "The next step was to improve the random forest models above by extracting, modifying, or deleting some of the given columns to create new, hopefully more relevant ones by [feature engineering](https://en.wikipedia.org/wiki/Feature_engineering). \n",
    "\n",
    "I tried lots of different modifications that I came up with on my own, but, in actuality, I couldn't come up with anything that definitely improved on the previous random forests. (The best score I ended up getting was 0.77751.) \n",
    "\n",
    "Since I couldn't seem to improve, I ended up reading a number of the discussion posts on Kaggle, particularly those that dealt with random forests and feature engineering. My favorite was [this one](https://www.kaggle.com/zlatankr/titanic-random-forest-82-78), so I decided to adapt it to the syntax I was using. The function I came up with is in the collapse below:"
   ]
  },
  {
   "cell_type": "code",
   "execution_count": 36,
   "metadata": {},
   "outputs": [],
   "source": [
    "#collapse\n",
    "def edit_features(df):\n",
    "    mod_df = df.copy()\n",
    "    \n",
    "    # PassengerId - not meaningful for learning\n",
    "    del mod_df[\"PassengerId\"]\n",
    "    \n",
    "    # Pclass - treat passenger class as category\n",
    "    mod_df[\"Pclass\"] = mod_df[\"Pclass\"].astype(\"category\")\n",
    "    \n",
    "    # Name - Split into name length and title\n",
    "    mod_df['NameLength'] = mod_df[\"Name\"].apply(lambda x: len(x))\n",
    "    mod_df['NameTitle'] = mod_df[\"Name\"].apply(lambda x: x.split(',')[1]).apply(lambda x: x.split()[0])\n",
    "    mod_df['NameTitle'] = mod_df[\"NameTitle\"].astype(\"category\")\n",
    "    del mod_df[\"Name\"]\n",
    "    \n",
    "    # Age - fill Age with mean grouped by title and class\n",
    "    age_data = mod_df.groupby(['NameTitle', 'Pclass'])['Age']\n",
    "    mod_df['Age_na'] = mod_df['Age'].apply(lambda x: 1 if pd.isnull(x) else 0)\n",
    "    mod_df['Age_na'] = mod_df['Age_na'].astype(\"category\")\n",
    "    mod_df['Age'] = age_data.transform(lambda x: x.fillna(x.mean()))\n",
    "    \n",
    "    # SibSp + Parch => Family size category\n",
    "    passengers = mod_df[\"SibSp\"] + mod_df[\"Parch\"] \n",
    "    mod_df['FamilySize'] = np.where(passengers == 0, 'Solo', np.where(passengers <= 3, 'Nuclear', 'Big'))\n",
    "    mod_df[\"FamilySize\"] = mod_df[\"FamilySize\"].astype(\"category\")\n",
    "    del mod_df['SibSp']\n",
    "    del mod_df['Parch']\n",
    "    \n",
    "    # Ticket - Split into two categories, \n",
    "    #  one based on the first letter of the ticket and \n",
    "    #  one based on the length\n",
    "    mod_df[\"TicketLetter\"] = mod_df[\"Ticket\"].apply(lambda x: str(x)[0])\n",
    "    mod_df[\"TicketLetter\"] = mod_df[\"TicketLetter\"].apply(lambda x: str(x))\n",
    "    highTicket = mod_df['TicketLetter'].isin(['1', '2', '3', 'S', 'P', 'C', 'A'])\n",
    "    lowTicket = mod_df['TicketLetter'].isin(['W', '4', '7', '6', 'L', '5', '8'])\n",
    "    mod_df['TicketLetter'] = np.where(highTicket, mod_df[\"TicketLetter\"],\n",
    "                                      np.where(lowTicket, \"LowTicket\", \"OtherTicket\"))\n",
    "    mod_df['TicketLength'] = mod_df['Ticket'].apply(lambda x: len(x))\n",
    "    del mod_df['Ticket']\n",
    "    \n",
    "    # Cabin - Split into the prefix and bin the number\n",
    "    mod_df[\"CabinPrefix\"] = mod_df['Cabin'].apply(lambda x: str(x)[0])\n",
    "    mod_df[\"CabinPrefix\"] = mod_df[\"CabinPrefix\"].astype(\"category\")\n",
    "    del mod_df[\"Cabin\"]\n",
    "        \n",
    "    # Embarked - Fill missing data with most common value ('S')\n",
    "    mod_df['Embarked'] = mod_df['Embarked'].fillna('S')\n",
    "    \n",
    "    return mod_df"
   ]
  },
  {
   "cell_type": "code",
   "execution_count": 65,
   "metadata": {},
   "outputs": [
    {
     "data": {
      "text/plain": [
       "Index(['Survived', 'Pclass', 'Sex', 'Age', 'Fare', 'Embarked', 'NameLength',\n",
       "       'NameTitle', 'Age_na', 'FamilySize', 'TicketLetter', 'TicketLength',\n",
       "       'CabinPrefix'],\n",
       "      dtype='object')"
      ]
     },
     "execution_count": 65,
     "metadata": {},
     "output_type": "execute_result"
    }
   ],
   "source": [
    "##\n",
    "# New data frame with modified features\n",
    "fe_train_df = edit_features(train_df)\n",
    "fe_train_df.columns"
   ]
  },
  {
   "cell_type": "markdown",
   "metadata": {},
   "source": [
    "With the modified features, I ran the training data through the same mechanism as before for creating a random forest"
   ]
  },
  {
   "cell_type": "code",
   "execution_count": 38,
   "metadata": {
    "scrolled": true
   },
   "outputs": [
    {
     "name": "stdout",
     "output_type": "stream",
     "text": [
      "Categorical columns: ['Pclass', 'Sex', 'Embarked', 'NameTitle', 'Age_na', 'FamilySize', 'TicketLetter', 'CabinPrefix']\n",
      "Continuous columns: ['Age', 'Fare', 'NameLength', 'TicketLength']\n"
     ]
    },
    {
     "data": {
      "text/html": [
       "<table border=\"1\" class=\"dataframe\">\n",
       "  <thead>\n",
       "    <tr style=\"text-align: right;\">\n",
       "      <th></th>\n",
       "      <th>Pclass</th>\n",
       "      <th>Sex</th>\n",
       "      <th>Embarked</th>\n",
       "      <th>NameTitle</th>\n",
       "      <th>Age_na</th>\n",
       "      <th>FamilySize</th>\n",
       "      <th>TicketLetter</th>\n",
       "      <th>CabinPrefix</th>\n",
       "      <th>Age</th>\n",
       "      <th>Fare</th>\n",
       "      <th>NameLength</th>\n",
       "      <th>TicketLength</th>\n",
       "      <th>Survived</th>\n",
       "    </tr>\n",
       "  </thead>\n",
       "  <tbody>\n",
       "    <tr>\n",
       "      <th>769</th>\n",
       "      <td>3</td>\n",
       "      <td>male</td>\n",
       "      <td>S</td>\n",
       "      <td>Mr.</td>\n",
       "      <td>0</td>\n",
       "      <td>Solo</td>\n",
       "      <td>LowTicket</td>\n",
       "      <td>n</td>\n",
       "      <td>32.0</td>\n",
       "      <td>8.362500</td>\n",
       "      <td>32</td>\n",
       "      <td>4</td>\n",
       "      <td>0</td>\n",
       "    </tr>\n",
       "    <tr>\n",
       "      <th>49</th>\n",
       "      <td>3</td>\n",
       "      <td>female</td>\n",
       "      <td>S</td>\n",
       "      <td>Mrs.</td>\n",
       "      <td>0</td>\n",
       "      <td>Nuclear</td>\n",
       "      <td>3</td>\n",
       "      <td>n</td>\n",
       "      <td>18.0</td>\n",
       "      <td>17.799999</td>\n",
       "      <td>45</td>\n",
       "      <td>6</td>\n",
       "      <td>0</td>\n",
       "    </tr>\n",
       "    <tr>\n",
       "      <th>704</th>\n",
       "      <td>3</td>\n",
       "      <td>male</td>\n",
       "      <td>S</td>\n",
       "      <td>Mr.</td>\n",
       "      <td>0</td>\n",
       "      <td>Nuclear</td>\n",
       "      <td>3</td>\n",
       "      <td>n</td>\n",
       "      <td>26.0</td>\n",
       "      <td>7.854200</td>\n",
       "      <td>23</td>\n",
       "      <td>6</td>\n",
       "      <td>0</td>\n",
       "    </tr>\n",
       "  </tbody>\n",
       "</table>"
      ],
      "text/plain": [
       "<IPython.core.display.HTML object>"
      ]
     },
     "metadata": {},
     "output_type": "display_data"
    }
   ],
   "source": [
    "##\n",
    "# Identify categorical and continuous columns and prep training data\n",
    "fe_cont, fe_cat = cont_cat_split(fe_train_df, 1, dep_var=dep_var)\n",
    "fe_splits = RandomSplitter()(range_of(fe_train_df))\n",
    "fe_tab_panda = TabularPandas(fe_train_df, column_ops, fe_cat, fe_cont, y_names=dep_var, splits=fe_splits)\n",
    "\n",
    "# Alias training and validation data\n",
    "fetrainxs, fetrainy = fe_tab_panda.train.xs, fe_tab_panda.train.y\n",
    "fevalidxs, fevalidy = fe_tab_panda.valid.xs, fe_tab_panda.valid.y\n",
    "\n",
    "print(f\"Categorical columns: {fe_cat}\")\n",
    "print(f\"Continuous columns: {fe_cont}\")\n",
    "fe_tab_panda.show(3)"
   ]
  },
  {
   "cell_type": "code",
   "execution_count": null,
   "metadata": {},
   "outputs": [],
   "source": [
    "##\n",
    "# Create a random forest model classifier\n",
    "fe_model = RandomForestClassifier(n_estimators=300, min_samples_split=5, oob_score=True)\n",
    "\n",
    "fe_model.fit(fetrainxs, fetrainy)\n",
    "fe_test_df = edit_features(test_df)\n",
    "fe_test_tab = TabularPandas(fe_test_df, column_ops, fe_cat, fe_cont)\n",
    "error = zero_one_loss(fe_model.predict(fevalidxs), fevalidy)\n",
    "\n",
    "print(f\"Model error: {error}\")\n",
    "print(f\"Model oob error: {1.0 - fe_model.oob_score_}\")"
   ]
  },
  {
   "cell_type": "code",
   "execution_count": 40,
   "metadata": {},
   "outputs": [
    {
     "name": "stdout",
     "output_type": "stream",
     "text": [
      "Model error: 0.1685393258426966\n",
      "Model oob error: 0.16830294530154277\n"
     ]
    }
   ],
   "source": [
    "#hide_input\n",
    "print(f\"Model error: {0.1685393258426966}\")\n",
    "print(f\"Model oob error: {0.16830294530154277}\")"
   ]
  },
  {
   "cell_type": "code",
   "execution_count": 41,
   "metadata": {},
   "outputs": [],
   "source": [
    "##\n",
    "# Make and submit predictions\n",
    "fe_survived = fe_model.predict(fe_test_tab.xs)\n",
    "fe_df = pd.DataFrame({'PassengerId': test_df['PassengerId'], 'Survived' : fe_survived})\n",
    "fe_df.to_csv(\"titanic_fe.csv\", index=False)"
   ]
  },
  {
   "cell_type": "markdown",
   "metadata": {},
   "source": [
    "`!kaggle competitions submit -c titanic -f titanic_fe.csv -m \"Random forest classifier with feature engineering\"`"
   ]
  },
  {
   "cell_type": "code",
   "execution_count": 42,
   "metadata": {},
   "outputs": [
    {
     "name": "stdout",
     "output_type": "stream",
     "text": [
      "Random forest with feature engineering model score: 0.78708\n"
     ]
    }
   ],
   "source": [
    "# hide_input\n",
    "print(f\"Random forest with feature engineering model score: {0.78708}\")"
   ]
  },
  {
   "cell_type": "markdown",
   "metadata": {},
   "source": [
    "This model did score a little bit better than the random forest model{% fn 1 %}. I'm not entirely convinced it's actually better than the non-engineered models though. However, plotting the feature importance, it's pretty easy to see that it is likely the added 'NameTitle' and 'NameLength' features are providing something beyond what 'Name' did. "
   ]
  },
  {
   "cell_type": "code",
   "execution_count": 66,
   "metadata": {
    "scrolled": false
   },
   "outputs": [
    {
     "data": {
      "text/plain": [
       "<AxesSubplot:ylabel='cols'>"
      ]
     },
     "execution_count": 66,
     "metadata": {},
     "output_type": "execute_result"
    },
    {
     "data": {
      "image/png": "[encoded data removed]",
      "text/plain": [
       "<Figure size 864x504 with 1 Axes>"
      ]
     },
     "metadata": {
      "needs_background": "light"
     },
     "output_type": "display_data"
    }
   ],
   "source": [
    "fi = feature_importance(fe_model, fetrainxs)\n",
    "fi.plot('cols', 'imp', 'barh', figsize=(12,7), legend=False)"
   ]
  },
  {
   "cell_type": "markdown",
   "metadata": {},
   "source": [
    "In any case, even though this feature engineering did not produce a model that blew the other models away, I really liked the justification and the write-up of the author for each change that he made. I think it's good insight on how I might use feature engineering on a less studied dataset."
   ]
  },
  {
   "cell_type": "markdown",
   "metadata": {},
   "source": [
    "## Using a Neural Network\n",
    "\n",
    "Changing gears, let's see if a neural network would garner better results. \n",
    "\n",
    "First, I needed to set up the data. I dropped the `PassengerId` column, since it's just an index, and set up the `TabularPandas` similar to before, the only major change is the addition of the `Normalize` operation."
   ]
  },
  {
   "cell_type": "code",
   "execution_count": 67,
   "metadata": {},
   "outputs": [],
   "source": [
    "##\n",
    "# Split the columns by cardinality of 500\n",
    "nn_cont_cols, nn_cat_cols = cont_cat_split(train_df, dep_var=dep_var)\n",
    "# Drop the counter variable\n",
    "nn_cont_cols.remove('PassengerId')\n",
    "# Added the Normalize operation\n",
    "nn_procs = [Categorify, FillMissing, Normalize]\n",
    "# Make the TabularPandas object\n",
    "nn_train_tab = TabularPandas(train_df, nn_procs, nn_cat_cols, nn_cont_cols, \n",
    "                             splits=splits, y_names=dep_var, y_block=CategoryBlock)"
   ]
  },
  {
   "cell_type": "markdown",
   "metadata": {},
   "source": [
    "Next, I set up the `DataLoader` and the learner itself and made a stab at finding an appropriate learning rate."
   ]
  },
  {
   "cell_type": "code",
   "execution_count": 68,
   "metadata": {
    "scrolled": false
   },
   "outputs": [],
   "source": [
    "nn_dls = nn_train_tab.dataloaders(512)\n",
    "learn = tabular_learner(nn_dls, loss_func=F.l1_loss)"
   ]
  },
  {
   "cell_type": "markdown",
   "metadata": {},
   "source": [
    "After experimenting with a number of different epochs, I found that 300 epochs with a learning rate of 0.04 seemed to give reasonable results on the validation set and not take forever (~5 seconds)."
   ]
  },
  {
   "cell_type": "code",
   "execution_count": 70,
   "metadata": {},
   "outputs": [
    {
     "data": {
      "text/html": [],
      "text/plain": [
       "<IPython.core.display.HTML object>"
      ]
     },
     "metadata": {},
     "output_type": "display_data"
    },
    {
     "name": "stdout",
     "output_type": "stream",
     "text": [
      "Training error: 0.014065220020711422\n",
      "Validation error: 0.1932232528924942\n"
     ]
    }
   ],
   "source": [
    "lr = 4e-2\n",
    "epochs = 300\n",
    "with learn.no_logging(): # Prevents display of the 300 rows of epochs\n",
    "    learn.fit_one_cycle(epochs, lr)\n",
    "train_error, valid_error = learn.recorder.values[-1]\n",
    "print(f\"Training error: {train_error}\")\n",
    "print(f\"Validation error: {valid_error}\")"
   ]
  },
  {
   "cell_type": "markdown",
   "metadata": {},
   "source": [
    "From there, it was fairly easy to make predictions, once I found the right incantation to get the test data in the right format (`learn.dls.test_dl`), call the right prediction function (`get_preds`), and flatten the predictions to a single vector:"
   ]
  },
  {
   "cell_type": "code",
   "execution_count": 72,
   "metadata": {},
   "outputs": [
    {
     "data": {
      "text/html": [],
      "text/plain": [
       "<IPython.core.display.HTML object>"
      ]
     },
     "metadata": {},
     "output_type": "display_data"
    }
   ],
   "source": [
    "##\n",
    "# Make and submit predictions\n",
    "_, nn_predictions = learn.get_preds(dl=learn.dls.test_dl(test_df))\n",
    "nn_df = pd.DataFrame({'PassengerId': test_df['PassengerId'], 'Survived' : nn_predictions.flatten()})\n",
    "nn_df.to_csv(\"titanic_nn.csv\", index=False)"
   ]
  },
  {
   "cell_type": "markdown",
   "metadata": {},
   "source": [
    "`!kaggle competitions submit -c titanic -f titanic_nn.csv -m \"Neural network predictions\"`"
   ]
  },
  {
   "cell_type": "code",
   "execution_count": 48,
   "metadata": {
    "scrolled": false
   },
   "outputs": [
    {
     "name": "stdout",
     "output_type": "stream",
     "text": [
      "Neural network score: 0.74641\n"
     ]
    }
   ],
   "source": [
    "#hide_input\n",
    "print(f\"Neural network score: {0.74641}\")"
   ]
  },
  {
   "cell_type": "markdown",
   "metadata": {},
   "source": [
    "As you can see, the neural network didn't score that much worse that the random forest models."
   ]
  },
  {
   "cell_type": "markdown",
   "metadata": {},
   "source": [
    "## Ensemble\n",
    "\n",
    "Now, I've got a handful of models that take slightly different approaches (or at least use different numbers of trees). I can combine them all into a single model. There may be other ways to approach this, but the simplest thing that came to my mind was to use a majority vote to decide who survived. Below is the ensemble that scored best on the competition test set of the ones that I tried."
   ]
  },
  {
   "cell_type": "code",
   "execution_count": 57,
   "metadata": {},
   "outputs": [],
   "source": [
    "##\n",
    "# Gather the models\n",
    "model_files = [\"titanic_rf_220.csv\", # 220-tree Random Forest\n",
    "               \"titanic_rffe.csv\", # RF with feature engineering\n",
    "               \"titanic_nn.csv\", # Neural network model\n",
    "               \"gender_submission.csv\" # Women only survival\n",
    "              ]\n",
    "\n",
    "# Combined the models into a table\n",
    "data = []\n",
    "for i, mfile in enumerate(model_files):\n",
    "    model_df = pd.read_csv(mfile)\n",
    "    data.append(model_df['Survived'])\n",
    "df = pd.DataFrame(data)\n",
    "\n",
    "# Majority vote\n",
    "ensemble_survived = pd.to_numeric(df.mode().iloc[0], downcast='integer')\n",
    "\n",
    "# Save to csv and submit\n",
    "ensemble_df = pd.DataFrame({'PassengerId': test_df['PassengerId'], 'Survived' : ensemble_survived})\n",
    "ensemble_df.to_csv(\"titanic_ensemble.csv\", index=False)"
   ]
  },
  {
   "cell_type": "markdown",
   "metadata": {},
   "source": [
    "`!kaggle competitions submit -c titanic -f titanic_ensemble.csv -m \"Ensemble\"`"
   ]
  },
  {
   "cell_type": "code",
   "execution_count": 59,
   "metadata": {},
   "outputs": [
    {
     "name": "stdout",
     "output_type": "stream",
     "text": [
      "Ensemble score: 0.78468\n"
     ]
    }
   ],
   "source": [
    "#hide_input\n",
    "print(f\"Ensemble score: {0.78468}\")"
   ]
  },
  {
   "cell_type": "markdown",
   "metadata": {},
   "source": [
    "In this case, the ensembles didn't score any better than the best individual models. It appears I have reached the limits of what I able to do with the approaches directly mentioned in the `fastai` lesson. I'm going to end my adventure with the Titanic here, since I worked the entire way through the lesson, but I have to say that was fun. \n",
    "\n",
    "If I were to continue, I would be taking a much closer look at [this notebook](https://www.kaggle.com/startover205/fastai-2-titanic-rf), which used a very similar `fastai` approach and achieved a score above 98%. They supplemented their data with [this extended set](https://www.kaggle.com/pavlofesenko/titanic-extended), however."
   ]
  },
  {
   "cell_type": "markdown",
   "metadata": {},
   "source": [
    "{{ \"Interestingly, though, I couldn't get it to quite match the claimed success of the notebook I borrowed it from (82%). I don't think it's my code though, since when I ran their exact code: https://github.com/zlatankr/Projects/tree/master/Titanic, I also got 77-78%.\" | fndetail: 1}} "
   ]
  },
  {
   "cell_type": "code",
   "execution_count": null,
   "metadata": {},
   "outputs": [],
   "source": []
  }
 ],
 "metadata": {
  "kernelspec": {
   "display_name": "Python 3",
   "language": "python",
   "name": "python3"
  },
  "language_info": {
   "codemirror_mode": {
    "name": "ipython",
    "version": 3
   },
   "file_extension": ".py",
   "mimetype": "text/x-python",
   "name": "python",
   "nbconvert_exporter": "python",
   "pygments_lexer": "ipython3",
   "version": "3.8.5"
  },
  "toc": {
   "base_numbering": 1,
   "nav_menu": {},
   "number_sections": false,
   "sideBar": true,
   "skip_h1_title": true,
   "title_cell": "Table of Contents",
   "title_sidebar": "Contents",
   "toc_cell": false,
   "toc_position": {},
   "toc_section_display": true,
   "toc_window_display": false
  }
 },
 "nbformat": 4,
 "nbformat_minor": 4
}
